{
  "nbformat": 4,
  "nbformat_minor": 0,
  "metadata": {
    "colab": {
      "provenance": [],
      "authorship_tag": "ABX9TyNFvPXdlnKvsEmdC9yViNqe",
      "include_colab_link": true
    },
    "kernelspec": {
      "name": "python3",
      "display_name": "Python 3"
    },
    "language_info": {
      "name": "python"
    },
    "accelerator": "GPU"
  },
  "cells": [
    {
      "cell_type": "markdown",
      "metadata": {
        "id": "view-in-github",
        "colab_type": "text"
      },
      "source": [
        "<a href=\"https://colab.research.google.com/github/A5HU705H/Currency-Prediction-Challenge/blob/main/ens%C3%A9mbl%C3%A9.ipynb\" target=\"_parent\"><img src=\"https://colab.research.google.com/assets/colab-badge.svg\" alt=\"Open In Colab\"/></a>"
      ]
    },
    {
      "cell_type": "code",
      "execution_count": null,
      "metadata": {
        "id": "1qRYnfnkyvpx"
      },
      "outputs": [],
      "source": [
        "# Importing the libraries and unzipping the data\n",
        "import numpy as np\n",
        "import pandas as pd\n",
        "import tensorflow as tf\n",
        "import cv2 as cv\n",
        "import os\n",
        "import json\n",
        "import shutil\n",
        "from google.colab import drive\n",
        "drive.mount('/content/drive')\n",
        "! unzip /content/drive/MyDrive/currency-prediction-challenge.zip"
      ]
    },
    {
      "cell_type": "code",
      "source": [
        "# copying train, test and json to main directory\n",
        "from os import path\n",
        "src1= '/content/data/train.csv'\n",
        "src2= '/content/data/test.csv'\n",
        "src3= '/content/data/cat_to_name.json'\n",
        "dst= path.join('/content')\n",
        "shutil.copy(src1, dst)\n",
        "shutil.copy(src2, dst)\n",
        "shutil.copy(src3, dst)"
      ],
      "metadata": {
        "colab": {
          "base_uri": "https://localhost:8080/",
          "height": 35
        },
        "id": "cL6GQP7Ryybz",
        "outputId": "e11dace2-1467-42f9-d3bf-6749b3055ae2"
      },
      "execution_count": null,
      "outputs": [
        {
          "output_type": "execute_result",
          "data": {
            "text/plain": [
              "'/content/cat_to_name.json'"
            ],
            "application/vnd.google.colaboratory.intrinsic+json": {
              "type": "string"
            }
          },
          "metadata": {},
          "execution_count": 7
        }
      ]
    },
    {
      "cell_type": "code",
      "source": [
        "# forming a dataframe containing the name of each of the training images and their corresponding labels\n",
        "X_train= pd.read_csv('train.csv')\n",
        "X_test= pd.read_csv('test.csv')\n",
        "\n",
        "labelling= open('cat_to_name.json')\n",
        "labels= labelling.read()\n",
        "labels_dict= json.loads(labels)\n",
        "\n",
        "Currency= X_train['currency'].copy()\n",
        "Country= X_train['country'].copy()\n",
        "X_train['value']=X_train['value'].str.cat(Currency, sep= \",\")\n",
        "X_train['value']=X_train['value'].str.cat(Country, sep= \",\")\n",
        "\n",
        "Labels_dict = labels_dict\n",
        "labels_dict = { labels_dict[k]:k for k in labels_dict}\n",
        "X_train['label']= X_train['value'].map(labels_dict)\n",
        "x_train = pd.DataFrame([X_train['name'], X_train['label']]).transpose()"
      ],
      "metadata": {
        "id": "0y459zEf0HMo"
      },
      "execution_count": null,
      "outputs": []
    },
    {
      "cell_type": "code",
      "source": [
        "# preprocessing setup used to set the data to be trained by each of the models:\n",
        "! mkdir 'Train'\n",
        "! mkdir 'Test'\n",
        "\n",
        "from os import path\n",
        "for i in Labels_dict:\n",
        "  Path1= path.join('/content/Train', i.zfill(4))\n",
        "  Path2= path.join('/content/Test', i.zfill(4))\n",
        "  os.mkdir(Path1)\n",
        "  os.mkdir(Path2)\n",
        "\n",
        "dictionary= dict(x_train.values)\n",
        "for j in dictionary:\n",
        "  src= path.join('/content/data/train', j)\n",
        "  dst= path.join('/content/Train', (dictionary.get(j)).zfill(4))\n",
        "  shutil.copy(src, dst)\n",
        "\n",
        "from keras.preprocessing.image import ImageDataGenerator\n",
        "train_datagen=ImageDataGenerator(featurewise_center=True,\n",
        "    featurewise_std_normalization=True,\n",
        "    validation_split=0.2,\n",
        "    rescale=1./255)\n",
        "training_set=train_datagen.flow_from_directory('/content/Train',target_size=(224,224),color_mode='rgb',class_mode='categorical',batch_size=64, subset='training')\n",
        "validation_set=train_datagen.flow_from_directory('/content/Train',target_size=(224,224),color_mode='rgb',class_mode='categorical',batch_size=64, subset='validation')"
      ],
      "metadata": {
        "id": "lWcs77WMgiol"
      },
      "execution_count": null,
      "outputs": []
    },
    {
      "cell_type": "code",
      "source": [
        "# defined architecture of each of the model used in ensemble\n",
        "def inception_compile():\n",
        "  pre_trained_model = tf.keras.applications.inception_v3.InceptionV3(\n",
        "    include_top=False,\n",
        "    weights='imagenet',\n",
        "    input_shape=(224, 224, 3),\n",
        "    pooling='avg'\n",
        "  )\n",
        "  for layer in pre_trained_model.layers:\n",
        "    layer.trainable= False\n",
        "\n",
        "  for layer in pre_trained_model.layers[:-1]:\n",
        "    layer.trainable= True\n",
        "\n",
        "  x= tf.keras.layers.Dense(32, activation='relu')(pre_trained_model.output)\n",
        "  x= tf.keras.layers.Flatten()(x)\n",
        "  x= tf.keras.layers.Dense(211, activation='softmax')(x)\n",
        "\n",
        "  model= tf.keras.Model(pre_trained_model.input, x)\n",
        "  return model\n",
        "def mobilenet_compile():\n",
        "  from keras.layers import Dense, Input, Dropout\n",
        "  from keras.models import Model\n",
        "\n",
        "  input_tensor = Input(shape=(224, 224, 3))\n",
        "  base_model = tf.keras.applications.MobileNetV2(\n",
        "    include_top=False,\n",
        "    weights='imagenet',\n",
        "    input_tensor=input_tensor,\n",
        "    input_shape=(224, 224, 3),\n",
        "    pooling='avg')\n",
        "\n",
        "  for layer in base_model.layers:\n",
        "    layer.trainable = True\n",
        "\n",
        "  x = Dense(512, activation='relu')(base_model.output)\n",
        "  x = Dropout(.8)(x)\n",
        "\n",
        "  predictions = Dense(211, activation='softmax')(x)\n",
        "\n",
        "  model = Model(inputs=base_model.input, outputs=predictions)\n",
        "  return model\n",
        "def vgg19_compile():\n",
        "  pre_trained_model = tf.keras.applications.vgg19.VGG19(\n",
        "      include_top=False,\n",
        "      weights='imagenet',\n",
        "      input_shape=(224, 224, 3),\n",
        "      pooling='max'\n",
        "  )\n",
        "  for layer in pre_trained_model.layers:\n",
        "    layer.trainable= False\n",
        "\n",
        "  x= tf.keras.layers.Flatten()(pre_trained_model.output)\n",
        "  x= tf.keras.layers.Dense(211, activation='softmax')(x)\n",
        "\n",
        "  model= tf.keras.Model(pre_trained_model.input, x)\n",
        "  return model\n",
        "def densenet_compile():\n",
        "  pre_trained_model = tf.keras.applications.DenseNet121(\n",
        "    include_top=False,\n",
        "    weights='imagenet',\n",
        "    input_shape=(224, 224, 3),\n",
        "    pooling='max'\n",
        "  )\n",
        "  for layer in pre_trained_model.layers:\n",
        "    layer.trainable= False\n",
        "\n",
        "  for layer in pre_trained_model.layers[:-1]:\n",
        "   layer.trainable= True\n",
        "\n",
        "  x= tf.keras.layers.Dense(32, activation='relu')(pre_trained_model.output)\n",
        "  x= tf.keras.layers.Flatten()(x)\n",
        "  x= tf.keras.layers.Dense(211, activation='softmax')(x)\n",
        "\n",
        "  model= tf.keras.Model(pre_trained_model.input, x)\n",
        "  return model\n",
        "def resnet_compile():\n",
        "  pre_trained_model = tf.keras.applications.resnet50.ResNet50(\n",
        "    include_top=False,\n",
        "    weights='imagenet',\n",
        "    input_shape=(224, 224, 3),\n",
        "    pooling='avg'\n",
        "  )\n",
        "  for layer in pre_trained_model.layers:\n",
        "   layer.trainable= True\n",
        "\n",
        "  x= tf.keras.layers.Flatten()(pre_trained_model.output)\n",
        "  x= tf.keras.layers.BatchNormalization()(x)\n",
        "  x= tf.keras.layers.Dropout(0.5)(x)\n",
        "  x= tf.keras.layers.Dense(211, activation='softmax')(x)\n",
        "  model= tf.keras.Model(pre_trained_model.input, x)\n",
        "  return model\n",
        "def efficient_compile():\n",
        "  pre_trained_model = tf.keras.applications.EfficientNetB0(\n",
        "    include_top=False,\n",
        "    weights='imagenet',\n",
        "    input_shape=(224, 224, 3),\n",
        "    pooling='avg'\n",
        "  )\n",
        "  for layer in pre_trained_model.layers:\n",
        "   layer.trainable= False\n",
        "\n",
        "  for layer in pre_trained_model.layers[:-1]:\n",
        "   layer.trainable= True\n",
        "\n",
        "  x= tf.keras.layers.Dense(32, activation='relu')(pre_trained_model.output)\n",
        "  x= tf.keras.layers.Dropout(0.2)(x)\n",
        "  x= tf.keras.layers.Dense(211, activation='softmax')(x)\n",
        "\n",
        "  model= tf.keras.Model(pre_trained_model.input, x)\n",
        "  return model"
      ],
      "metadata": {
        "id": "wDoNGMT4zFhW"
      },
      "execution_count": null,
      "outputs": []
    },
    {
      "cell_type": "code",
      "source": [
        "# compiling the models\n",
        "model1= inception_compile()\n",
        "model2= vgg19_compile()\n",
        "model3= densenet_compile()\n",
        "model4= mobilenet_compile()\n",
        "model5= resnet_compile()\n",
        "model6= efficient_compile()"
      ],
      "metadata": {
        "id": "2CyCov7ZzR5z",
        "colab": {
          "base_uri": "https://localhost:8080/"
        },
        "outputId": "c370913f-015c-4995-b25d-f964aca54682"
      },
      "execution_count": null,
      "outputs": [
        {
          "output_type": "stream",
          "name": "stdout",
          "text": [
            "Downloading data from https://storage.googleapis.com/tensorflow/keras-applications/inception_v3/inception_v3_weights_tf_dim_ordering_tf_kernels_notop.h5\n",
            "87916544/87910968 [==============================] - 1s 0us/step\n",
            "87924736/87910968 [==============================] - 1s 0us/step\n",
            "Downloading data from https://storage.googleapis.com/tensorflow/keras-applications/vgg19/vgg19_weights_tf_dim_ordering_tf_kernels_notop.h5\n",
            "80142336/80134624 [==============================] - 0s 0us/step\n",
            "80150528/80134624 [==============================] - 0s 0us/step\n",
            "Downloading data from https://storage.googleapis.com/tensorflow/keras-applications/densenet/densenet121_weights_tf_dim_ordering_tf_kernels_notop.h5\n",
            "29089792/29084464 [==============================] - 0s 0us/step\n",
            "29097984/29084464 [==============================] - 0s 0us/step\n",
            "Downloading data from https://storage.googleapis.com/tensorflow/keras-applications/mobilenet_v2/mobilenet_v2_weights_tf_dim_ordering_tf_kernels_1.0_224_no_top.h5\n",
            "9412608/9406464 [==============================] - 0s 0us/step\n",
            "9420800/9406464 [==============================] - 0s 0us/step\n",
            "Downloading data from https://storage.googleapis.com/tensorflow/keras-applications/resnet/resnet50_weights_tf_dim_ordering_tf_kernels_notop.h5\n",
            "94773248/94765736 [==============================] - 1s 0us/step\n",
            "94781440/94765736 [==============================] - 1s 0us/step\n",
            "Downloading data from https://storage.googleapis.com/keras-applications/efficientnetb0_notop.h5\n",
            "16711680/16705208 [==============================] - 0s 0us/step\n",
            "16719872/16705208 [==============================] - 0s 0us/step\n"
          ]
        }
      ]
    },
    {
      "cell_type": "code",
      "source": [
        "# weights loaded from previously pre trained models\n",
        "model1.load_weights('/content/drive/MyDrive/inception_enhanced.hdf5')           # 76.31 val_acc\n",
        "model2.load_weights('/content/drive/MyDrive/vgg19.h5')                          # 77.01 val_acc\n",
        "model3.load_weights('/content/drive/MyDrive/densenet.hdf5')                     # 83.34 val_acc\n",
        "model4.load_weights('/content/drive/MyDrive/model.weights.best (2).hdf5')       # 82.23 val_acc\n",
        "model5.load_weights('/content/drive/MyDrive/resnet50.hdf5')                     # 83.11 val_acc\n",
        "model6.load_weights('/content/drive/MyDrive/efficientnetb0.hdf5')               # 81.22 val_acc"
      ],
      "metadata": {
        "id": "7W8Bwl3-zZ3x"
      },
      "execution_count": null,
      "outputs": []
    },
    {
      "cell_type": "code",
      "source": [
        "# code to generate train dataset (altering path allows us to generate test dataset)\n",
        "label1, label2, label3, label4, label5, label6= []\n",
        "for i in x_train['name']:\n",
        "  Path= path.join('/content/data/train', i)\n",
        "  img = tf.io.read_file(Path)\n",
        "  tensor = tf.io.decode_image(img, channels=3, dtype=tf.dtypes.float32)\n",
        "  tensor = tf.image.resize(tensor, [224, 224])\n",
        "  input_tensor = tf.expand_dims(tensor, axis=0)\n",
        "\n",
        "  result1=model1.predict(input_tensor)\n",
        "  result2=model2.predict(input_tensor)\n",
        "  result3=model3.predict(input_tensor)\n",
        "  result4=model4.predict(input_tensor)\n",
        "  result5=model5.predict(input_tensor)\n",
        "  result6=model6.predict(input_tensor)\n",
        "\n",
        "  result1= result1[0]\n",
        "  result2= result2[0]\n",
        "  result3= result3[0]\n",
        "  result4= result4[0]\n",
        "  result5= result5[0]\n",
        "  result6= result6[0]\n",
        "\n",
        "  label1.append(result1)\n",
        "  label2.append(result2)\n",
        "  label3.append(result3)\n",
        "  label4.append(result4)\n",
        "  label5.append(result5)\n",
        "  label6.append(result6)\n",
        "\n",
        "a, b, c, d, e, f=[]\n",
        "for i in range(0,len(label2[0])):\n",
        "  a1, b1, c1, d1, e1, f1=[]\n",
        "  for j in range(0,len(label2)):\n",
        "    a1.append(label1[j][i])\n",
        "    b1.append(label2[j][i])\n",
        "    c1.append(label3[j][i])\n",
        "    d1.append(label4[j][i])\n",
        "    e1.append(label5[j][i])\n",
        "    f1.append(label6[j][i])\n",
        "  a.append(a1)\n",
        "  b.append(b1)\n",
        "  c.append(c1)\n",
        "  d.append(d1)\n",
        "  e.append(e1)\n",
        "  f.append(f1)\n",
        "\n",
        "dataset=pd.DataFrame()\n",
        "for i in range(0,len(b)-1):\n",
        "  dataset['vgg {}'.format(i+1)]=b[i]\n",
        "for i in range(0,len(b)-1):\n",
        "  dataset['densenet {}'.format(i+1)]=c[i]\n",
        "for i in range(0,len(b)-1):\n",
        "  dataset['mobilenet {}'.format(i+1)]=d[i]\n",
        "for i in range(0,len(b)-1):\n",
        "  dataset['resnet {}'.format(i+1)]=e[i]\n",
        "for i in range(0,len(b)-1):\n",
        "  dataset['inception {}'.format(i+1)]=a[i]\n",
        "for i in range(0,len(b)-1):\n",
        "  dataset['efficient {}'.format(i+1)]=f[i]"
      ],
      "metadata": {
        "id": "RKDMc0KlhYly"
      },
      "execution_count": null,
      "outputs": []
    },
    {
      "cell_type": "code",
      "source": [
        "# loading dataset 1(datasets generated using predict on train set) . . .\n",
        "dataset= pd.read_csv('/content/drive/MyDrive/vgg_dense_mobile_res(dummy_removed).csv')"
      ],
      "metadata": {
        "id": "qZdcyuItMRtu"
      },
      "execution_count": null,
      "outputs": []
    },
    {
      "cell_type": "code",
      "source": [
        "# loading dataset 2(is used for the final calculation) . . .\n",
        "dataset= pd.read_csv('/content/drive/MyDrive/vgg_dense_mobile_res_incep_eff(dummy_removed).csv')"
      ],
      "metadata": {
        "id": "gAyWkRycaabX"
      },
      "execution_count": null,
      "outputs": []
    },
    {
      "cell_type": "code",
      "source": [
        "# consists of 1260 parameters, (removed the confidence of label 211 since it is a dummy variable.)\n",
        "print(dataset)"
      ],
      "metadata": {
        "colab": {
          "base_uri": "https://localhost:8080/"
        },
        "id": "u8mYu-_5fg6N",
        "outputId": "03924a51-3f45-4ce8-85ef-360851faa9f6"
      },
      "execution_count": null,
      "outputs": [
        {
          "output_type": "stream",
          "name": "stdout",
          "text": [
            "         vgg 1     vgg 2     vgg 3     vgg 4     vgg 5         vgg 6  \\\n",
            "0     0.860291  0.001406  0.001041  0.001573  0.002455  3.723942e-07   \n",
            "1     0.938574  0.002977  0.002688  0.000002  0.000035  1.371984e-08   \n",
            "2     0.976812  0.000487  0.000982  0.000182  0.000116  9.110158e-07   \n",
            "3     0.976812  0.000487  0.000982  0.000182  0.000116  9.110158e-07   \n",
            "4     0.755424  0.016454  0.000162  0.000021  0.000001  4.150541e-08   \n",
            "...        ...       ...       ...       ...       ...           ...   \n",
            "6408  0.000113  0.000036  0.001285  0.000029  0.000132  3.007252e-07   \n",
            "6409  0.000241  0.002314  0.001705  0.000865  0.000143  1.145769e-04   \n",
            "6410  0.000020  0.000042  0.000168  0.000032  0.000018  2.166555e-08   \n",
            "6411  0.000006  0.000006  0.001723  0.000003  0.000005  1.156740e-06   \n",
            "6412  0.000034  0.000006  0.000564  0.000005  0.000003  8.519160e-06   \n",
            "\n",
            "         vgg 7     vgg 8     vgg 9    vgg 10  ...  efficient 201  \\\n",
            "0     0.000738  0.002486  0.001530  0.000358  ...   3.707376e-05   \n",
            "1     0.000068  0.003157  0.002497  0.000708  ...   9.049762e-08   \n",
            "2     0.000150  0.000163  0.001038  0.000209  ...   4.187662e-07   \n",
            "3     0.000150  0.000163  0.001038  0.000209  ...   4.187662e-07   \n",
            "4     0.000159  0.039729  0.002068  0.000650  ...   8.168129e-08   \n",
            "...        ...       ...       ...       ...  ...            ...   \n",
            "6408  0.000010  0.000105  0.000005  0.000043  ...   2.035778e-05   \n",
            "6409  0.000172  0.000018  0.000091  0.000123  ...   5.280672e-07   \n",
            "6410  0.000096  0.000069  0.000379  0.000021  ...   1.240389e-05   \n",
            "6411  0.000002  0.000008  0.000010  0.000016  ...   1.272730e-07   \n",
            "6412  0.000005  0.000039  0.000086  0.000012  ...   2.695852e-06   \n",
            "\n",
            "      efficient 202  efficient 203  efficient 204  efficient 205  \\\n",
            "0          0.003565       0.001367   3.539443e-06   1.597912e-05   \n",
            "1          0.000033       0.000028   2.213792e-08   2.696893e-08   \n",
            "2          0.000153       0.000116   2.726478e-08   2.069125e-07   \n",
            "3          0.000153       0.000116   2.726478e-08   2.069125e-07   \n",
            "4          0.000053       0.000010   9.069499e-08   3.081544e-07   \n",
            "...             ...            ...            ...            ...   \n",
            "6408       0.000600       0.000099   2.578234e-05   5.635145e-06   \n",
            "6409       0.000028       0.000002   9.666524e-07   1.327520e-07   \n",
            "6410       0.000529       0.002226   5.659627e-06   2.167713e-06   \n",
            "6411       0.000026       0.000002   3.369043e-06   5.335600e-07   \n",
            "6412       0.000116       0.000022   5.275887e-06   1.242060e-07   \n",
            "\n",
            "      efficient 206  efficient 207  efficient 208  efficient 209  \\\n",
            "0      2.798824e-05       0.004246   5.643638e-06   3.225933e-05   \n",
            "1      1.751782e-06       0.000030   1.123336e-08   5.424637e-08   \n",
            "2      6.194597e-07       0.000046   2.690440e-08   6.282113e-08   \n",
            "3      6.194597e-07       0.000046   2.690440e-08   6.282113e-08   \n",
            "4      8.906832e-07       0.000142   1.591178e-08   1.082939e-07   \n",
            "...             ...            ...            ...            ...   \n",
            "6408   3.544383e-05       0.008631   1.512489e-04   7.458021e-05   \n",
            "6409   1.826257e-07       0.000076   1.744806e-06   5.355262e-06   \n",
            "6410   5.411420e-06       0.000509   3.493341e-04   7.906900e-05   \n",
            "6411   5.298866e-07       0.000557   4.544490e-06   2.243320e-05   \n",
            "6412   5.809642e-07       0.000166   5.904359e-06   4.212601e-05   \n",
            "\n",
            "      efficient 210  \n",
            "0          0.000071  \n",
            "1          0.000002  \n",
            "2          0.000004  \n",
            "3          0.000004  \n",
            "4          0.000001  \n",
            "...             ...  \n",
            "6408       0.000027  \n",
            "6409       0.000004  \n",
            "6410       0.001062  \n",
            "6411       0.000013  \n",
            "6412       0.000008  \n",
            "\n",
            "[6413 rows x 1260 columns]\n"
          ]
        }
      ]
    },
    {
      "cell_type": "code",
      "source": [
        "# saving dataset. . .\n",
        "dataset.to_csv('/content/drive/MyDrive/vgg_dense_mobile_res_incep_eff(dummy_removed).csv', index=False)"
      ],
      "metadata": {
        "id": "MO225jeKY_42"
      },
      "execution_count": null,
      "outputs": []
    },
    {
      "cell_type": "code",
      "source": [
        "# labels used for models that don't like one hot encoding\n",
        "y1=[]\n",
        "for i in x_train['label']:\n",
        "  y1.append(int(i))"
      ],
      "metadata": {
        "id": "prb1HGg32lrv"
      },
      "execution_count": null,
      "outputs": []
    },
    {
      "cell_type": "code",
      "source": [
        "# labels used for models that like one hot encoding\n",
        "y= tf.keras.utils.to_categorical(x_train['label'])\n",
        "y= np.delete(y, 0, axis=1)\n",
        "print(y.shape)"
      ],
      "metadata": {
        "colab": {
          "base_uri": "https://localhost:8080/"
        },
        "id": "s-QT-qo_B0cu",
        "outputId": "167a9308-1737-41e1-a3e3-b876e7d20dd3"
      },
      "execution_count": null,
      "outputs": [
        {
          "output_type": "stream",
          "name": "stdout",
          "text": [
            "(6413, 211)\n"
          ]
        }
      ]
    },
    {
      "cell_type": "code",
      "source": [
        "# train test split\n",
        "from sklearn.model_selection import train_test_split\n",
        "X_train, X_test, y_train, y_test = train_test_split(dataset, y, test_size = 0.2, random_state = 0)\n",
        "X0, X1, y0, y1 = train_test_split(dataset, y1, test_size = 0.2, random_state = 0)"
      ],
      "metadata": {
        "id": "6bY_xacY3RFA"
      },
      "execution_count": null,
      "outputs": []
    },
    {
      "cell_type": "code",
      "source": [
        "# ensemble Deep Learning\n",
        "ann = tf.keras.models.Sequential()\n",
        "ann.add(tf.keras.layers.Dense(units=32, activation='relu'))\n",
        "ann.add(tf.keras.layers.Dropout(0.4))\n",
        "ann.add(tf.keras.layers.Dense(units=32, activation='relu'))\n",
        "ann.add(tf.keras.layers.Dense(units=211, activation='softmax'))"
      ],
      "metadata": {
        "id": "a9W5FuR1YPNe"
      },
      "execution_count": null,
      "outputs": []
    },
    {
      "cell_type": "code",
      "source": [
        "# compiling the deep learning model\n",
        "ann.compile(optimizer = tf.keras.optimizers.Adam(lr=0.001), loss = 'categorical_crossentropy', metrics = ['accuracy'])\n",
        "ann.fit(X_train, y_train, batch_size = 32, epochs = 50)"
      ],
      "metadata": {
        "colab": {
          "base_uri": "https://localhost:8080/"
        },
        "id": "YwznyIxNUIB7",
        "outputId": "aff21c12-d4a0-4da7-8dc2-46daf849b4c6"
      },
      "execution_count": null,
      "outputs": [
        {
          "output_type": "stream",
          "name": "stderr",
          "text": [
            "/usr/local/lib/python3.7/dist-packages/keras/optimizer_v2/adam.py:105: UserWarning: The `lr` argument is deprecated, use `learning_rate` instead.\n",
            "  super(Adam, self).__init__(name, **kwargs)\n"
          ]
        },
        {
          "output_type": "stream",
          "name": "stdout",
          "text": [
            "Epoch 1/50\n",
            "161/161 [==============================] - 1s 3ms/step - loss: 5.1142 - accuracy: 0.0536\n",
            "Epoch 2/50\n",
            "161/161 [==============================] - 0s 3ms/step - loss: 3.6655 - accuracy: 0.2485\n",
            "Epoch 3/50\n",
            "161/161 [==============================] - 0s 3ms/step - loss: 2.1024 - accuracy: 0.6195\n",
            "Epoch 4/50\n",
            "161/161 [==============================] - 0s 3ms/step - loss: 1.3466 - accuracy: 0.7359\n",
            "Epoch 5/50\n",
            "161/161 [==============================] - 0s 3ms/step - loss: 1.0671 - accuracy: 0.7692\n",
            "Epoch 6/50\n",
            "161/161 [==============================] - 0s 3ms/step - loss: 0.9291 - accuracy: 0.7864\n",
            "Epoch 7/50\n",
            "161/161 [==============================] - 0s 3ms/step - loss: 0.8277 - accuracy: 0.8012\n",
            "Epoch 8/50\n",
            "161/161 [==============================] - 0s 3ms/step - loss: 0.7696 - accuracy: 0.8150\n",
            "Epoch 9/50\n",
            "161/161 [==============================] - 0s 3ms/step - loss: 0.7457 - accuracy: 0.8156\n",
            "Epoch 10/50\n",
            "161/161 [==============================] - 0s 3ms/step - loss: 0.6525 - accuracy: 0.8380\n",
            "Epoch 11/50\n",
            "161/161 [==============================] - 0s 3ms/step - loss: 0.6239 - accuracy: 0.8444\n",
            "Epoch 12/50\n",
            "161/161 [==============================] - 0s 3ms/step - loss: 0.5924 - accuracy: 0.8532\n",
            "Epoch 13/50\n",
            "161/161 [==============================] - 0s 3ms/step - loss: 0.5679 - accuracy: 0.8534\n",
            "Epoch 14/50\n",
            "161/161 [==============================] - 0s 3ms/step - loss: 0.5752 - accuracy: 0.8481\n",
            "Epoch 15/50\n",
            "161/161 [==============================] - 0s 3ms/step - loss: 0.5477 - accuracy: 0.8569\n",
            "Epoch 16/50\n",
            "161/161 [==============================] - 0s 3ms/step - loss: 0.5227 - accuracy: 0.8595\n",
            "Epoch 17/50\n",
            "161/161 [==============================] - 0s 3ms/step - loss: 0.4875 - accuracy: 0.8698\n",
            "Epoch 18/50\n",
            "161/161 [==============================] - 0s 3ms/step - loss: 0.4821 - accuracy: 0.8717\n",
            "Epoch 19/50\n",
            "161/161 [==============================] - 0s 3ms/step - loss: 0.4660 - accuracy: 0.8764\n",
            "Epoch 20/50\n",
            "161/161 [==============================] - 0s 3ms/step - loss: 0.4600 - accuracy: 0.8717\n",
            "Epoch 21/50\n",
            "161/161 [==============================] - 0s 3ms/step - loss: 0.4508 - accuracy: 0.8752\n",
            "Epoch 22/50\n",
            "161/161 [==============================] - 0s 3ms/step - loss: 0.4352 - accuracy: 0.8823\n",
            "Epoch 23/50\n",
            "161/161 [==============================] - 0s 3ms/step - loss: 0.4163 - accuracy: 0.8819\n",
            "Epoch 24/50\n",
            "161/161 [==============================] - 0s 3ms/step - loss: 0.4176 - accuracy: 0.8852\n",
            "Epoch 25/50\n",
            "161/161 [==============================] - 0s 3ms/step - loss: 0.4165 - accuracy: 0.8793\n",
            "Epoch 26/50\n",
            "161/161 [==============================] - 0s 3ms/step - loss: 0.4095 - accuracy: 0.8821\n",
            "Epoch 27/50\n",
            "161/161 [==============================] - 0s 3ms/step - loss: 0.3975 - accuracy: 0.8883\n",
            "Epoch 28/50\n",
            "161/161 [==============================] - 0s 3ms/step - loss: 0.3884 - accuracy: 0.8848\n",
            "Epoch 29/50\n",
            "161/161 [==============================] - 0s 3ms/step - loss: 0.3858 - accuracy: 0.8918\n",
            "Epoch 30/50\n",
            "161/161 [==============================] - 0s 3ms/step - loss: 0.3582 - accuracy: 0.8963\n",
            "Epoch 31/50\n",
            "161/161 [==============================] - 0s 3ms/step - loss: 0.3576 - accuracy: 0.8924\n",
            "Epoch 32/50\n",
            "161/161 [==============================] - 0s 3ms/step - loss: 0.3504 - accuracy: 0.9004\n",
            "Epoch 33/50\n",
            "161/161 [==============================] - 0s 3ms/step - loss: 0.3634 - accuracy: 0.8908\n",
            "Epoch 34/50\n",
            "161/161 [==============================] - 0s 3ms/step - loss: 0.3499 - accuracy: 0.8928\n",
            "Epoch 35/50\n",
            "161/161 [==============================] - 0s 3ms/step - loss: 0.3371 - accuracy: 0.8996\n",
            "Epoch 36/50\n",
            "161/161 [==============================] - 0s 3ms/step - loss: 0.3243 - accuracy: 0.9035\n",
            "Epoch 37/50\n",
            "161/161 [==============================] - 0s 3ms/step - loss: 0.3458 - accuracy: 0.8984\n",
            "Epoch 38/50\n",
            "161/161 [==============================] - 0s 3ms/step - loss: 0.3244 - accuracy: 0.9035\n",
            "Epoch 39/50\n",
            "161/161 [==============================] - 0s 3ms/step - loss: 0.3088 - accuracy: 0.9037\n",
            "Epoch 40/50\n",
            "161/161 [==============================] - 0s 3ms/step - loss: 0.3232 - accuracy: 0.9039\n",
            "Epoch 41/50\n",
            "161/161 [==============================] - 0s 3ms/step - loss: 0.2970 - accuracy: 0.9115\n",
            "Epoch 42/50\n",
            "161/161 [==============================] - 0s 3ms/step - loss: 0.3150 - accuracy: 0.9053\n",
            "Epoch 43/50\n",
            "161/161 [==============================] - 0s 3ms/step - loss: 0.2985 - accuracy: 0.9076\n",
            "Epoch 44/50\n",
            "161/161 [==============================] - 0s 3ms/step - loss: 0.2948 - accuracy: 0.9096\n",
            "Epoch 45/50\n",
            "161/161 [==============================] - 0s 3ms/step - loss: 0.2972 - accuracy: 0.9088\n",
            "Epoch 46/50\n",
            "161/161 [==============================] - 0s 3ms/step - loss: 0.2977 - accuracy: 0.9062\n",
            "Epoch 47/50\n",
            "161/161 [==============================] - 0s 3ms/step - loss: 0.2964 - accuracy: 0.9096\n",
            "Epoch 48/50\n",
            "161/161 [==============================] - 0s 3ms/step - loss: 0.2871 - accuracy: 0.9097\n",
            "Epoch 49/50\n",
            "161/161 [==============================] - 1s 5ms/step - loss: 0.2909 - accuracy: 0.9103\n",
            "Epoch 50/50\n",
            "161/161 [==============================] - 1s 5ms/step - loss: 0.2783 - accuracy: 0.9123\n"
          ]
        },
        {
          "output_type": "execute_result",
          "data": {
            "text/plain": [
              "<keras.callbacks.History at 0x7fec9bc3d690>"
            ]
          },
          "metadata": {},
          "execution_count": 14
        }
      ]
    },
    {
      "cell_type": "code",
      "source": [
        "#ensemble fitting (logistic)\n",
        "from sklearn.linear_model import LogisticRegression\n",
        "classifier1 = LogisticRegression(random_state = 0)\n",
        "classifier1.fit(X0, y0)"
      ],
      "metadata": {
        "colab": {
          "base_uri": "https://localhost:8080/"
        },
        "id": "Firkbfic884C",
        "outputId": "4d84009a-0ce5-4aae-9143-6ddf5c2836f4"
      },
      "execution_count": null,
      "outputs": [
        {
          "output_type": "execute_result",
          "data": {
            "text/plain": [
              "LogisticRegression(random_state=0)"
            ]
          },
          "metadata": {},
          "execution_count": 39
        }
      ]
    },
    {
      "cell_type": "code",
      "source": [
        "# deep learning prediction comparision\n",
        "from sklearn.metrics import confusion_matrix, accuracy_score\n",
        "y_pred = ann.predict(X_test)\n",
        "cm = confusion_matrix(y_test.argmax(axis=1), y_pred.argmax(axis=1))\n",
        "print(cm)\n",
        "accuracy_score(y_test.argmax(axis=1),y_pred.argmax(axis=1))"
      ],
      "metadata": {
        "colab": {
          "base_uri": "https://localhost:8080/"
        },
        "id": "4aAjXLMGfiRR",
        "outputId": "f4c9bce4-4223-41da-d58c-01543e53433e"
      },
      "execution_count": null,
      "outputs": [
        {
          "output_type": "stream",
          "name": "stdout",
          "text": [
            "[[7 0 0 ... 0 0 0]\n",
            " [0 7 0 ... 0 0 0]\n",
            " [0 0 4 ... 0 0 0]\n",
            " ...\n",
            " [0 0 0 ... 6 0 0]\n",
            " [0 0 0 ... 0 3 0]\n",
            " [0 0 0 ... 0 0 2]]\n"
          ]
        },
        {
          "output_type": "execute_result",
          "data": {
            "text/plain": [
              "0.9563522992985191"
            ]
          },
          "metadata": {},
          "execution_count": 127
        }
      ]
    },
    {
      "cell_type": "code",
      "source": [
        "# non-one hot encoded prediction comparision\n",
        "from sklearn.metrics import confusion_matrix, accuracy_score\n",
        "y_pred = classifier.predict(X_test)\n",
        "cm = confusion_matrix(y_test, y_pred)\n",
        "print(cm)\n",
        "accuracy_score(y_test, y_pred)"
      ],
      "metadata": {
        "colab": {
          "base_uri": "https://localhost:8080/"
        },
        "id": "-GN-nfa-RUE-",
        "outputId": "d3a2b044-d405-43e5-a235-743b3bb6f6d1"
      },
      "execution_count": null,
      "outputs": [
        {
          "output_type": "stream",
          "name": "stdout",
          "text": [
            "[[7 0 0 ... 0 0 0]\n",
            " [0 7 0 ... 0 0 0]\n",
            " [0 0 4 ... 0 0 0]\n",
            " ...\n",
            " [0 0 0 ... 6 0 0]\n",
            " [0 0 0 ... 0 3 0]\n",
            " [0 0 0 ... 0 0 2]]\n"
          ]
        },
        {
          "output_type": "execute_result",
          "data": {
            "text/plain": [
              "0.961028838659392"
            ]
          },
          "metadata": {},
          "execution_count": 135
        }
      ]
    },
    {
      "cell_type": "code",
      "source": [
        "# one hot encoded prediction comparison\n",
        "from sklearn.metrics import confusion_matrix, accuracy_score\n",
        "y_pred = classifier.predict(X_test)\n",
        "cm = confusion_matrix(y_test.argmax(axis=1), y_pred.argmax(axis=1))\n",
        "print(cm)\n",
        "accuracy_score(y_test, y_pred)"
      ],
      "metadata": {
        "colab": {
          "base_uri": "https://localhost:8080/"
        },
        "id": "sNQgLxE346a2",
        "outputId": "f5a450b4-a3bc-4ed5-90d8-6e37f45a7a32"
      },
      "execution_count": null,
      "outputs": [
        {
          "output_type": "stream",
          "name": "stdout",
          "text": [
            "[[7 0 0 ... 0 0 0]\n",
            " [0 7 0 ... 0 0 0]\n",
            " [0 0 4 ... 0 0 0]\n",
            " ...\n",
            " [0 0 0 ... 6 0 0]\n",
            " [0 0 0 ... 0 3 0]\n",
            " [0 0 0 ... 0 0 2]]\n"
          ]
        },
        {
          "output_type": "execute_result",
          "data": {
            "text/plain": [
              "0.9454403741231489"
            ]
          },
          "metadata": {},
          "execution_count": 32
        }
      ]
    },
    {
      "cell_type": "code",
      "source": [
        "# test dataset loading. . .\n",
        "test_dataset= pd.read_csv('/content/drive/MyDrive/TestSet.csv')"
      ],
      "metadata": {
        "id": "pZcR6WS5MtoB"
      },
      "execution_count": null,
      "outputs": []
    },
    {
      "cell_type": "code",
      "source": [
        "print(test_dataset)"
      ],
      "metadata": {
        "colab": {
          "base_uri": "https://localhost:8080/"
        },
        "id": "KIg7GnUvf1qr",
        "outputId": "d5612804-7a61-46c7-d9b4-e050a29cf0da"
      },
      "execution_count": null,
      "outputs": [
        {
          "output_type": "stream",
          "name": "stdout",
          "text": [
            "            vgg 1         vgg 2         vgg 3         vgg 4         vgg 5  \\\n",
            "0    7.865998e-01  4.898704e-04  4.098047e-05  5.240663e-05  4.951632e-04   \n",
            "1    6.990524e-05  3.008193e-07  4.227759e-06  3.921734e-06  8.552957e-08   \n",
            "2    3.708693e-04  1.951009e-06  1.706128e-05  7.420514e-07  5.177032e-06   \n",
            "3    3.311248e-04  1.738439e-03  4.614207e-03  2.662936e-03  1.125625e-04   \n",
            "4    3.899672e-05  4.803655e-07  9.093321e-06  5.319938e-08  7.230418e-08   \n",
            "..            ...           ...           ...           ...           ...   \n",
            "839  2.633990e-05  4.355523e-07  2.394918e-07  2.712719e-08  1.986265e-07   \n",
            "840  1.662544e-05  1.066535e-05  2.597549e-05  5.472966e-07  6.666833e-08   \n",
            "841  8.335537e-03  5.022981e-03  1.036655e-04  1.497426e-03  3.162025e-03   \n",
            "842  7.993731e-03  1.311836e-03  1.733450e-03  5.048872e-03  8.051062e-04   \n",
            "843  4.905693e-10  2.102849e-10  1.211971e-12  3.200299e-13  2.429136e-08   \n",
            "\n",
            "            vgg 6         vgg 7         vgg 8         vgg 9        vgg 10  \\\n",
            "0    1.678386e-05  5.082758e-05  1.504291e-04  7.203875e-04  1.969853e-04   \n",
            "1    1.098720e-07  8.984852e-08  1.672074e-06  8.337967e-05  1.656072e-04   \n",
            "2    3.547914e-07  9.139744e-06  1.204081e-05  2.737202e-04  1.748785e-05   \n",
            "3    1.281336e-04  7.373387e-04  2.060646e-03  4.287892e-04  3.136005e-03   \n",
            "4    4.992622e-10  2.379714e-08  9.453855e-06  2.571161e-04  6.290401e-05   \n",
            "..            ...           ...           ...           ...           ...   \n",
            "839  3.858189e-10  5.172107e-06  1.771093e-05  8.835261e-07  6.003372e-06   \n",
            "840  3.914586e-10  3.230959e-06  1.192756e-04  4.956051e-05  9.015148e-05   \n",
            "841  3.897336e-05  2.785510e-05  1.373195e-03  6.994519e-04  2.213634e-03   \n",
            "842  1.142664e-05  3.080779e-03  1.217922e-03  2.529519e-03  7.920170e-03   \n",
            "843  4.547268e-16  5.463674e-14  4.670985e-10  1.273241e-09  5.551165e-10   \n",
            "\n",
            "     ...  efficient 201  efficient 202  efficient 203  efficient 204  \\\n",
            "0    ...   4.769558e-07   4.173951e-04   3.384350e-05   2.665847e-07   \n",
            "1    ...   2.159116e-07   6.454423e-09   1.907499e-08   2.013164e-07   \n",
            "2    ...   3.106315e-06   1.268080e-04   1.148999e-06   2.956944e-05   \n",
            "3    ...   1.767910e-08   1.232393e-07   1.139694e-09   9.915900e-04   \n",
            "4    ...   2.230169e-06   2.111468e-07   8.828408e-08   7.206038e-06   \n",
            "..   ...            ...            ...            ...            ...   \n",
            "839  ...   4.866179e-03   8.448515e-04   6.131321e-04   5.095978e-04   \n",
            "840  ...   2.213311e-06   6.293585e-08   3.598673e-06   7.428703e-07   \n",
            "841  ...   2.194461e-03   4.000250e-05   2.569321e-04   3.216882e-05   \n",
            "842  ...   2.258593e-04   1.022146e-03   1.678388e-05   5.644743e-04   \n",
            "843  ...   3.965760e-08   1.701030e-07   6.337822e-08   6.426660e-08   \n",
            "\n",
            "     efficient 205  efficient 206  efficient 207  efficient 208  \\\n",
            "0     1.250788e-06   1.113605e-06   2.168711e-04   6.800048e-08   \n",
            "1     8.738750e-05   2.255534e-07   8.040028e-10   1.290212e-04   \n",
            "2     4.568940e-04   4.739630e-05   3.225365e-08   1.235880e-06   \n",
            "3     4.587882e-05   1.007093e-06   1.059973e-06   7.791344e-06   \n",
            "4     5.767273e-04   1.459059e-07   2.416129e-06   4.739665e-06   \n",
            "..             ...            ...            ...            ...   \n",
            "839   8.714031e-03   4.725321e-02   1.568222e-03   2.810914e-03   \n",
            "840   1.756349e-05   1.032707e-06   8.185289e-08   1.736705e-05   \n",
            "841   7.195243e-04   7.797353e-04   4.208030e-06   8.765718e-03   \n",
            "842   2.181007e-03   2.811440e-04   7.911479e-05   7.481211e-04   \n",
            "843   7.166115e-10   1.097066e-06   4.719427e-05   9.027495e-06   \n",
            "\n",
            "     efficient 209  efficient 210  \n",
            "0     1.190585e-06   4.603623e-06  \n",
            "1     3.078291e-06   1.049537e-05  \n",
            "2     3.622015e-07   3.505113e-06  \n",
            "3     1.298768e-08   2.042426e-08  \n",
            "4     1.138561e-06   6.730568e-09  \n",
            "..             ...            ...  \n",
            "839   5.082566e-05   2.297279e-03  \n",
            "840   5.093486e-07   1.088656e-07  \n",
            "841   6.741914e-05   6.418375e-03  \n",
            "842   3.748301e-04   7.558703e-05  \n",
            "843   8.992686e-08   4.213752e-11  \n",
            "\n",
            "[844 rows x 1260 columns]\n"
          ]
        }
      ]
    },
    {
      "cell_type": "code",
      "source": [
        "# test dataset saving. . .\n",
        "test_dataset.to_csv('/content/drive/MyDrive/TestSet.csv', index=False)"
      ],
      "metadata": {
        "id": "8auBMrl-co2E"
      },
      "execution_count": null,
      "outputs": []
    },
    {
      "cell_type": "code",
      "source": [
        "# creating predictions from Logistic Regression ensemble\n",
        "y_pred_1 = classifier.predict(test_dataset)"
      ],
      "metadata": {
        "id": "STlcQKn0J7SA"
      },
      "execution_count": null,
      "outputs": []
    },
    {
      "cell_type": "code",
      "source": [
        "y_pred_1 = tf.keras.utils.to_categorical(y_pred_1)\n",
        "y_pred_1 = np.delete(y_pred_1, 0, axis=1)"
      ],
      "metadata": {
        "id": "Hj0HZDDe-QCI"
      },
      "execution_count": null,
      "outputs": []
    },
    {
      "cell_type": "code",
      "source": [
        "# creating predictions from Neural Network ensemble\n",
        "y_pred = ann.predict(test_dataset)"
      ],
      "metadata": {
        "id": "7pPYNhql2RAK"
      },
      "execution_count": null,
      "outputs": []
    },
    {
      "cell_type": "code",
      "source": [
        "# combining the ensembling models to take average\n",
        "y_pred = y_pred + y_pred_1"
      ],
      "metadata": {
        "id": "MDbUPqiEgOaM"
      },
      "execution_count": null,
      "outputs": []
    },
    {
      "cell_type": "code",
      "source": [
        "print(y_pred)"
      ],
      "metadata": {
        "colab": {
          "base_uri": "https://localhost:8080/"
        },
        "id": "JUiyY6L57dvX",
        "outputId": "fe3ada65-6d9c-4ec7-e54a-62219536145f"
      },
      "execution_count": null,
      "outputs": [
        {
          "output_type": "stream",
          "name": "stdout",
          "text": [
            "[[1.9999846e+00 6.7485006e-12 1.0672779e-18 ... 3.6691786e-24\n",
            "  8.0536741e-22 4.3845274e-09]\n",
            " [1.9550727e-07 1.5009165e-12 4.8172949e-14 ... 4.1322506e-13\n",
            "  1.1748915e-09 1.6521388e-05]\n",
            " [2.6507449e-16 1.6262801e-18 9.0375318e-27 ... 2.1093465e-13\n",
            "  1.2117259e-16 1.0044809e-06]\n",
            " ...\n",
            " [4.6714023e-04 1.7597940e-03 2.0400879e-04 ... 2.3836068e-05\n",
            "  1.2218922e-04 1.1331978e+00]\n",
            " [2.3893446e-14 1.4372372e-13 7.8913910e-26 ... 4.1971191e-14\n",
            "  1.7385234e-09 7.8000721e-07]\n",
            " [2.3936728e-22 3.6401286e-21 1.1311547e-11 ... 3.8520830e-13\n",
            "  1.1515856e-14 6.6050783e-09]]\n"
          ]
        }
      ]
    },
    {
      "cell_type": "code",
      "source": [
        "# using test data to creat format which is submittable\n",
        "x_test= pd.read_csv('test.csv')\n",
        "x_test.insert(1, 'label', (y_pred.argmax(axis=1)+1), True)\n",
        "print(x_test)"
      ],
      "metadata": {
        "colab": {
          "base_uri": "https://localhost:8080/"
        },
        "id": "mHg2AHo7KeLg",
        "outputId": "19ec3358-5e54-49a3-8954-44c1bbb21728"
      },
      "execution_count": null,
      "outputs": [
        {
          "output_type": "stream",
          "name": "stdout",
          "text": [
            "        name  label\n",
            "0      1.jpg      1\n",
            "1      2.jpg    191\n",
            "2      3.jpg     11\n",
            "3      4.jpg    145\n",
            "4      5.jpg     48\n",
            "..       ...    ...\n",
            "839  840.jpg     80\n",
            "840  841.jpg     53\n",
            "841  842.jpg    211\n",
            "842  843.jpg     33\n",
            "843  844.jpg     94\n",
            "\n",
            "[844 rows x 2 columns]\n"
          ]
        }
      ]
    },
    {
      "cell_type": "code",
      "source": [
        "# saving submission file\n",
        "x_test.to_csv('/content/drive/MyDrive/submission.csv', index=False)"
      ],
      "metadata": {
        "id": "wf9tGA9pKwHf"
      },
      "execution_count": null,
      "outputs": []
    }
  ]
}